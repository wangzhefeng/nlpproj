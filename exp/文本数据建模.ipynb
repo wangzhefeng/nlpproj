{
 "cells": [
  {
   "cell_type": "code",
   "execution_count": 34,
   "metadata": {},
   "outputs": [
    {
     "name": "stdout",
     "output_type": "stream",
     "text": [
      "torch.__version__ = 1.9.1\n",
      "torchtext.__version__ = 0.10.1\n"
     ]
    }
   ],
   "source": [
    "# 载入 Python 依赖库\n",
    "import os\n",
    "os.environ[\"KMP_DUPLICATE_LIB_OK\"] = \"TRUE\"\n",
    "\n",
    "import numpy as np\n",
    "import pandas as pd\n",
    "\n",
    "import torch\n",
    "from torch import nn\n",
    "from torch.utils.data import Dataset, DataLoader\n",
    "import torchtext\n",
    "from torchtext.data.utils import get_tokenizer\n",
    "from torchtext.vocab import build_vocab_from_iterator\n",
    "print(f\"torch.__version__ = {torch.__version__}\")\n",
    "print(f\"torchtext.__version__ = {torchtext.__version__}\")\n",
    "\n",
    "from torchkeras.kerasmodel import KerasModel\n",
    "from torchkeras.metrics import Accuracy\n",
    "from torchkeras.utils.plot_metrics import plot_metrics"
   ]
  },
  {
   "cell_type": "code",
   "execution_count": 14,
   "metadata": {},
   "outputs": [],
   "source": [
    "# 全局变量\n",
    "MIN_FREQ = 30  # 仅考虑词频超过 30 的词\n",
    "MAX_LEN = 200  # 每个样本保留 200 个词的长度\n",
    "BATCH_SIZE = 20"
   ]
  },
  {
   "cell_type": "code",
   "execution_count": 15,
   "metadata": {},
   "outputs": [],
   "source": [
    "# 数据读取\n",
    "df_train = pd.read_csv(\n",
    "    \"./data/imdb/train.tsv\", \n",
    "    sep = \"\\t\", \n",
    "    header = None, \n",
    "    names = [\"label\", \"text\"]\n",
    ")\n",
    "df_validate = pd.read_csv(\n",
    "    \"./data/imdb/test.tsv\", \n",
    "    sep = \"\\t\", \n",
    "    header = None, \n",
    "    names = [\"label\", \"text\"]\n",
    ")"
   ]
  },
  {
   "cell_type": "code",
   "execution_count": 16,
   "metadata": {},
   "outputs": [],
   "source": [
    "# 文本切词\n",
    "tokenizer = get_tokenizer(\"basic_english\")"
   ]
  },
  {
   "cell_type": "code",
   "execution_count": 17,
   "metadata": {},
   "outputs": [
    {
     "name": "stdout",
     "output_type": "stream",
     "text": [
      "vocab_size = 8813\n",
      "vocab.get_itos()=['<pad>', '<unk>', 'the', '.', ',', 'and', 'a', 'of', 'to', \"'\", 'is', 'it', 'in', 'i', 'this', 'that', 's', 'was', 'as', 'for']\n",
      "vocab.get_stoi()=0\n"
     ]
    }
   ],
   "source": [
    "# 构建词典\n",
    "PAD_IDX = 0\n",
    "UNK_IDX = 1\n",
    "special_symbols = [\"<pad>\", \"<unk>\"]\n",
    "\n",
    "def yield_tokens(df_data):\n",
    "    for text in df_data[\"text\"]:\n",
    "        yield tokenizer(text)\n",
    "\n",
    "vocab = build_vocab_from_iterator(\n",
    "    yield_tokens(df_train),\n",
    "    min_freq = MIN_FREQ,\n",
    "    specials = special_symbols,\n",
    "    special_first = True,\n",
    ")\n",
    "vocab.set_default_index(UNK_IDX)\n",
    "vocab_size = len(vocab)\n",
    "print(f\"vocab_size = {str(vocab_size)}\")\n",
    "print(f\"vocab.get_itos()={vocab.get_itos()[:20]}\")  # 查看词典前20个词, itos: index to string\n",
    "print(f\"vocab.get_stoi()={vocab.get_stoi()['<pad>']}\")  # stoi: string to index"
   ]
  },
  {
   "cell_type": "code",
   "execution_count": 18,
   "metadata": {},
   "outputs": [
    {
     "name": "stdout",
     "output_type": "stream",
     "text": [
      "[14, 10, 41, 461, 36, 0, 0, 0, 0, 0, 0, 0, 0, 0, 0, 0, 0, 0, 0, 0, 0, 0, 0, 0, 0, 0, 0, 0, 0, 0, 0, 0, 0, 0, 0, 0, 0, 0, 0, 0, 0, 0, 0, 0, 0, 0, 0, 0, 0, 0, 0, 0, 0, 0, 0, 0, 0, 0, 0, 0, 0, 0, 0, 0, 0, 0, 0, 0, 0, 0, 0, 0, 0, 0, 0, 0, 0, 0, 0, 0, 0, 0, 0, 0, 0, 0, 0, 0, 0, 0, 0, 0, 0, 0, 0, 0, 0, 0, 0, 0, 0, 0, 0, 0, 0, 0, 0, 0, 0, 0, 0, 0, 0, 0, 0, 0, 0, 0, 0, 0, 0, 0, 0, 0, 0, 0, 0, 0, 0, 0, 0, 0, 0, 0, 0, 0, 0, 0, 0, 0, 0, 0, 0, 0, 0, 0, 0, 0, 0, 0, 0, 0, 0, 0, 0, 0, 0, 0, 0, 0, 0, 0, 0, 0, 0, 0, 0, 0, 0, 0, 0, 0, 0, 0, 0, 0, 0, 0, 0, 0, 0, 0, 0, 0, 0, 0, 0, 0, 0, 0, 0, 0, 0, 0, 0, 0, 0, 0, 0, 0]\n"
     ]
    }
   ],
   "source": [
    "# 序列填充\n",
    "def pad(seq, max_length, pad_value = 0):\n",
    "    n = len(seq)\n",
    "    result = seq +[pad_value] * max_length\n",
    "    return result[:max_length]\n",
    "\n",
    "# 编码转换\n",
    "def text_pipeline(text):\n",
    "    words = tokenizer(text)\n",
    "    tokens = vocab(words)\n",
    "    result = pad(tokens, MAX_LEN, PAD_IDX)\n",
    "    return result\n",
    "\n",
    "\n",
    "print(text_pipeline(\"this is an example!\"))"
   ]
  },
  {
   "cell_type": "code",
   "execution_count": 26,
   "metadata": {},
   "outputs": [],
   "source": [
    "# 构建数据管道\n",
    "class ImdbDataset(Dataset):\n",
    "    def __init__(self, df):\n",
    "        self.df = df\n",
    "    \n",
    "    def __len__(self):\n",
    "        return len(self.df)\n",
    "    \n",
    "    def __getitem__(self, index):\n",
    "        text = self.df[\"text\"].iloc[index]\n",
    "        label = torch.tensor([\n",
    "            self.df[\"label\"].iloc[index]\n",
    "        ]).float()\n",
    "        tokens = torch.tensor(\n",
    "            text_pipeline(text)\n",
    "        ).int()\n",
    "        return tokens, label\n",
    "\n",
    "ds_train = ImdbDataset(df_train)\n",
    "ds_validate = ImdbDataset(df_validate)\n",
    "\n",
    "dl_train = DataLoader(ds_train, batch_size = 50, shuffle = True)\n",
    "dl_validate = DataLoader(ds_validate, batch_size = 50, shuffle = False)"
   ]
  },
  {
   "cell_type": "code",
   "execution_count": 27,
   "metadata": {},
   "outputs": [
    {
     "name": "stdout",
     "output_type": "stream",
     "text": [
      "Net(\n",
      "  (embedding): Embedding(8813, 3, padding_idx=0)\n",
      "  (conv): Sequential(\n",
      "    (conv_1): Conv1d(3, 16, kernel_size=(5,), stride=(1,))\n",
      "    (pool_1): MaxPool1d(kernel_size=2, stride=2, padding=0, dilation=1, ceil_mode=False)\n",
      "    (relu_1): ReLU()\n",
      "    (conv_2): Conv1d(16, 128, kernel_size=(2,), stride=(1,))\n",
      "    (pool_2): MaxPool1d(kernel_size=2, stride=2, padding=0, dilation=1, ceil_mode=False)\n",
      "    (relu_2): ReLU()\n",
      "  )\n",
      "  (dense): Sequential(\n",
      "    (flatten): Flatten(start_dim=1, end_dim=-1)\n",
      "    (linear): Linear(in_features=6144, out_features=1, bias=True)\n",
      "  )\n",
      ")\n"
     ]
    }
   ],
   "source": [
    "# 定义模型\n",
    "class Net(nn.Module):\n",
    "\n",
    "    def __init__(self):\n",
    "        super(Net, self).__init__()\n",
    "        \n",
    "        # 设置 padding_idx 参数后将在训练过程中将填充的 token 始终赋值为 0 向量\n",
    "        self.embedding = nn.Embedding(num_embeddings = vocab_size, embedding_dim = 3, padding_idx = 0)\n",
    "        \n",
    "        self.conv = nn.Sequential()\n",
    "        self.conv.add_module(\"conv_1\", nn.Conv1d(in_channels = 3, out_channels = 16, kernel_size = 5))\n",
    "        self.conv.add_module(\"pool_1\", nn.MaxPool1d(kernel_size = 2))\n",
    "        self.conv.add_module(\"relu_1\", nn.ReLU())\n",
    "        self.conv.add_module(\"conv_2\", nn.Conv1d(in_channels = 16, out_channels = 128, kernel_size = 2))\n",
    "        self.conv.add_module(\"pool_2\", nn.MaxPool1d(kernel_size = 2))\n",
    "        self.conv.add_module(\"relu_2\", nn.ReLU())\n",
    "        \n",
    "        self.dense = nn.Sequential()\n",
    "        self.dense.add_module(\"flatten\", nn.Flatten())\n",
    "        self.dense.add_module(\"linear\", nn.Linear(6144, 1))\n",
    "    \n",
    "    def forward(self, x):\n",
    "        x = self.embedding(x).transpose(1, 2)\n",
    "        x = self.conv(x)\n",
    "        y = self.dense(x)\n",
    "        return y\n",
    "\n",
    "net = Net()\n",
    "print(net)"
   ]
  },
  {
   "cell_type": "code",
   "execution_count": 36,
   "metadata": {},
   "outputs": [
    {
     "name": "stderr",
     "output_type": "stream",
     "text": [
      "/Users/zfwang/.pyenv/versions/3.7.10/envs/pytorch/lib/python3.7/site-packages/torchmetrics/utilities/prints.py:36: UserWarning: Torchmetrics v0.9 introduced a new argument class property called `full_state_update` that has\n",
      "                not been set for this class (Accuracy). The property determines if `update` by\n",
      "                default needs access to the full metric state. If this is not the case, significant speedups can be\n",
      "                achieved and we recommend setting this to `False`.\n",
      "                We provide an checking function\n",
      "                `from torchmetrics.utilities import check_forward_full_state_property`\n",
      "                that can be used to check if the `full_state_update=True` (old and potential slower behaviour,\n",
      "                default for now) or if `full_state_update=False` can be used safely.\n",
      "                \n",
      "  warnings.warn(*args, **kwargs)\n",
      "  1%|          | 3/400 [00:00<00:15, 24.89it/s, train_acc=0.98, train_loss=0.116]"
     ]
    },
    {
     "name": "stdout",
     "output_type": "stream",
     "text": [
      "\n",
      "================================================================================2022-08-30 22:19:22\n",
      "Epoch 1 / 10\n",
      "\n"
     ]
    },
    {
     "name": "stderr",
     "output_type": "stream",
     "text": [
      "100%|██████████| 400/400 [00:13<00:00, 30.53it/s, train_acc=0.925, train_loss=0.197]\n",
      "100%|██████████| 100/100 [00:01<00:00, 58.95it/s, val_acc=0.814, val_loss=0.521]\n",
      "<<<<<< reach best val_acc : 0.8140000104904175 >>>>>>\n",
      "  1%|          | 3/400 [00:00<00:13, 28.56it/s, train_acc=0.9, train_loss=0.237] "
     ]
    },
    {
     "name": "stdout",
     "output_type": "stream",
     "text": [
      "\n",
      "================================================================================2022-08-30 22:19:37\n",
      "Epoch 2 / 10\n",
      "\n"
     ]
    },
    {
     "name": "stderr",
     "output_type": "stream",
     "text": [
      "100%|██████████| 400/400 [00:13<00:00, 30.44it/s, train_acc=0.934, train_loss=0.176]\n",
      "100%|██████████| 100/100 [00:01<00:00, 57.28it/s, val_acc=0.81, val_loss=0.52]\n",
      "  1%|          | 3/400 [00:00<00:16, 23.87it/s, train_acc=0.98, train_loss=0.0979]"
     ]
    },
    {
     "name": "stdout",
     "output_type": "stream",
     "text": [
      "\n",
      "================================================================================2022-08-30 22:19:52\n",
      "Epoch 3 / 10\n",
      "\n"
     ]
    },
    {
     "name": "stderr",
     "output_type": "stream",
     "text": [
      "100%|██████████| 400/400 [00:13<00:00, 29.62it/s, train_acc=0.945, train_loss=0.154]\n",
      "100%|██████████| 100/100 [00:01<00:00, 56.99it/s, val_acc=0.815, val_loss=0.564]\n",
      "<<<<<< reach best val_acc : 0.8151999711990356 >>>>>>\n",
      "  1%|          | 3/400 [00:00<00:15, 26.02it/s, train_acc=0.96, train_loss=0.0883]"
     ]
    },
    {
     "name": "stdout",
     "output_type": "stream",
     "text": [
      "\n",
      "================================================================================2022-08-30 22:20:07\n",
      "Epoch 4 / 10\n",
      "\n"
     ]
    },
    {
     "name": "stderr",
     "output_type": "stream",
     "text": [
      "100%|██████████| 400/400 [00:13<00:00, 29.17it/s, train_acc=0.949, train_loss=0.136]\n",
      "100%|██████████| 100/100 [00:01<00:00, 58.02it/s, val_acc=0.81, val_loss=0.619]\n",
      "  1%|          | 3/400 [00:00<00:15, 25.78it/s, train_acc=0.98, train_loss=0.0742]"
     ]
    },
    {
     "name": "stdout",
     "output_type": "stream",
     "text": [
      "\n",
      "================================================================================2022-08-30 22:20:22\n",
      "Epoch 5 / 10\n",
      "\n"
     ]
    },
    {
     "name": "stderr",
     "output_type": "stream",
     "text": [
      "100%|██████████| 400/400 [00:13<00:00, 30.21it/s, train_acc=0.96, train_loss=0.117] \n",
      "100%|██████████| 100/100 [00:01<00:00, 54.78it/s, val_acc=0.808, val_loss=0.694]\n",
      "  1%|          | 3/400 [00:00<00:15, 25.65it/s, train_acc=0.98, train_loss=0.0465]"
     ]
    },
    {
     "name": "stdout",
     "output_type": "stream",
     "text": [
      "\n",
      "================================================================================2022-08-30 22:20:37\n",
      "Epoch 6 / 10\n",
      "\n"
     ]
    },
    {
     "name": "stderr",
     "output_type": "stream",
     "text": [
      "100%|██████████| 400/400 [00:13<00:00, 30.09it/s, train_acc=0.965, train_loss=0.104]\n",
      "100%|██████████| 100/100 [00:01<00:00, 59.23it/s, val_acc=0.798, val_loss=0.766]\n",
      "<<<<<< val_acc without improvement in 3 epoch, early stopping >>>>>>\n"
     ]
    }
   ],
   "source": [
    "# 模型训练\n",
    "model = KerasModel(\n",
    "    net = net,\n",
    "    loss_fn = nn.BCEWithLogitsLoss(),\n",
    "    optimizer = torch.optim.Adam(net.parameters(), lr = 0.01),\n",
    "    metrics_dict = {\"acc\": Accuracy()},\n",
    ")\n",
    "history_df = model.fit(\n",
    "    train_data = dl_train,\n",
    "    validate_data = dl_validate,\n",
    "    epochs = 10,\n",
    "    ckpt_path = \"./torchcheckpoint/checkpoint.pt\",\n",
    "    patience = 3,\n",
    "    monitor = \"val_acc\",\n",
    "    mode = \"max\",\n",
    ")"
   ]
  },
  {
   "cell_type": "code",
   "execution_count": 37,
   "metadata": {},
   "outputs": [
    {
     "data": {
      "text/html": [
       "<div>\n",
       "<style scoped>\n",
       "    .dataframe tbody tr th:only-of-type {\n",
       "        vertical-align: middle;\n",
       "    }\n",
       "\n",
       "    .dataframe tbody tr th {\n",
       "        vertical-align: top;\n",
       "    }\n",
       "\n",
       "    .dataframe thead th {\n",
       "        text-align: right;\n",
       "    }\n",
       "</style>\n",
       "<table border=\"1\" class=\"dataframe\">\n",
       "  <thead>\n",
       "    <tr style=\"text-align: right;\">\n",
       "      <th></th>\n",
       "      <th>train_loss</th>\n",
       "      <th>train_acc</th>\n",
       "      <th>val_loss</th>\n",
       "      <th>val_acc</th>\n",
       "      <th>epoch</th>\n",
       "    </tr>\n",
       "  </thead>\n",
       "  <tbody>\n",
       "    <tr>\n",
       "      <th>0</th>\n",
       "      <td>0.196584</td>\n",
       "      <td>0.92460</td>\n",
       "      <td>0.520719</td>\n",
       "      <td>0.8140</td>\n",
       "      <td>1</td>\n",
       "    </tr>\n",
       "    <tr>\n",
       "      <th>1</th>\n",
       "      <td>0.175541</td>\n",
       "      <td>0.93420</td>\n",
       "      <td>0.520311</td>\n",
       "      <td>0.8096</td>\n",
       "      <td>2</td>\n",
       "    </tr>\n",
       "    <tr>\n",
       "      <th>2</th>\n",
       "      <td>0.154345</td>\n",
       "      <td>0.94475</td>\n",
       "      <td>0.563911</td>\n",
       "      <td>0.8152</td>\n",
       "      <td>3</td>\n",
       "    </tr>\n",
       "    <tr>\n",
       "      <th>3</th>\n",
       "      <td>0.136470</td>\n",
       "      <td>0.94920</td>\n",
       "      <td>0.619409</td>\n",
       "      <td>0.8104</td>\n",
       "      <td>4</td>\n",
       "    </tr>\n",
       "    <tr>\n",
       "      <th>4</th>\n",
       "      <td>0.117021</td>\n",
       "      <td>0.95950</td>\n",
       "      <td>0.693779</td>\n",
       "      <td>0.8082</td>\n",
       "      <td>5</td>\n",
       "    </tr>\n",
       "    <tr>\n",
       "      <th>5</th>\n",
       "      <td>0.103967</td>\n",
       "      <td>0.96460</td>\n",
       "      <td>0.765736</td>\n",
       "      <td>0.7980</td>\n",
       "      <td>6</td>\n",
       "    </tr>\n",
       "  </tbody>\n",
       "</table>\n",
       "</div>"
      ],
      "text/plain": [
       "   train_loss  train_acc  val_loss  val_acc  epoch\n",
       "0    0.196584    0.92460  0.520719   0.8140      1\n",
       "1    0.175541    0.93420  0.520311   0.8096      2\n",
       "2    0.154345    0.94475  0.563911   0.8152      3\n",
       "3    0.136470    0.94920  0.619409   0.8104      4\n",
       "4    0.117021    0.95950  0.693779   0.8082      5\n",
       "5    0.103967    0.96460  0.765736   0.7980      6"
      ]
     },
     "execution_count": 37,
     "metadata": {},
     "output_type": "execute_result"
    }
   ],
   "source": [
    "# 评估模型\n",
    "history_df"
   ]
  },
  {
   "cell_type": "code",
   "execution_count": 38,
   "metadata": {},
   "outputs": [
    {
     "data": {
      "image/png": "[encoded data removed]",
      "text/plain": [
       "<Figure size 432x288 with 1 Axes>"
      ]
     },
     "metadata": {
      "needs_background": "light"
     },
     "output_type": "display_data"
    }
   ],
   "source": [
    "plot_metrics(history_df, \"loss\")"
   ]
  },
  {
   "cell_type": "code",
   "execution_count": 39,
   "metadata": {},
   "outputs": [
    {
     "data": {
      "image/png": "[encoded data removed]",
      "text/plain": [
       "<Figure size 432x288 with 1 Axes>"
      ]
     },
     "metadata": {
      "needs_background": "light"
     },
     "output_type": "display_data"
    }
   ],
   "source": [
    "plot_metrics(history_df, \"acc\")"
   ]
  },
  {
   "cell_type": "code",
   "execution_count": 40,
   "metadata": {},
   "outputs": [
    {
     "name": "stderr",
     "output_type": "stream",
     "text": [
      "100%|██████████| 100/100 [00:01<00:00, 56.67it/s, val_acc=0.815, val_loss=0.564]\n"
     ]
    },
    {
     "data": {
      "text/plain": [
       "{'val_loss': 0.563910961151123, 'val_acc': 0.8151999711990356}"
      ]
     },
     "execution_count": 40,
     "metadata": {},
     "output_type": "execute_result"
    }
   ],
   "source": [
    "model.evaluate(dl_validate)"
   ]
  },
  {
   "cell_type": "code",
   "execution_count": 43,
   "metadata": {},
   "outputs": [
    {
     "data": {
      "text/plain": [
       "tensor([[ 4.1595],\n",
       "        [ 3.4210],\n",
       "        [ 3.3750],\n",
       "        ...,\n",
       "        [ 4.0610],\n",
       "        [-3.4700],\n",
       "        [ 4.5271]])"
      ]
     },
     "execution_count": 43,
     "metadata": {},
     "output_type": "execute_result"
    }
   ],
   "source": [
    "# 使用模型\n",
    "y_pred_probs = model.predict(dl_validate)\n",
    "y_pred_probs"
   ]
  },
  {
   "cell_type": "code",
   "execution_count": 44,
   "metadata": {},
   "outputs": [
    {
     "data": {
      "text/plain": [
       "<All keys matched successfully>"
      ]
     },
     "execution_count": 44,
     "metadata": {},
     "output_type": "execute_result"
    }
   ],
   "source": [
    "# 保存模型\n",
    "net_clone = Net()\n",
    "net_clone.load_state_dict(\n",
    "    torch.load(\"./torchcheckpoint/checkpoint.pt\")\n",
    ")"
   ]
  },
  {
   "cell_type": "code",
   "execution_count": null,
   "metadata": {},
   "outputs": [],
   "source": []
  }
 ],
 "metadata": {
  "kernelspec": {
   "display_name": "Python 3",
   "language": "python",
   "name": "python3"
  },
  "language_info": {
   "codemirror_mode": {
    "name": "ipython",
    "version": 3
   },
   "file_extension": ".py",
   "mimetype": "text/x-python",
   "name": "python",
   "nbconvert_exporter": "python",
   "pygments_lexer": "ipython3",
   "version": "3.7.10"
  },
  "vscode": {
   "interpreter": {
    "hash": "4b1b1fe44047e5240378d701df40aa149094e7eee15f7b3336589fd4ae32ec78"
   }
  }
 },
 "nbformat": 4,
 "nbformat_minor": 4
}
