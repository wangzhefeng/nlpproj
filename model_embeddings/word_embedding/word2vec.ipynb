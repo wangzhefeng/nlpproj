{
 "cells": [
  {
   "cell_type": "markdown",
   "id": "weighted-hands",
   "metadata": {},
   "source": [
    "# Word2Vec\n",
    "\n",
    "Word2Vec 不是单一算法，而是一种模型体系结构和优化，可用与从大型数据集中学习单词嵌入。通过 Word2Vec 学习到的嵌入已被证明在各种下游自然语言处理任务上是成功的。\n",
    "\n",
    "这里的 Word2Vec 基于下面两篇论文：\n",
    "\n",
    "- 向量空间中单词表示的有效估计\n",
    "    - https://arxiv.org/pdf/1301.3781.pdf\n",
    "- 单词和短语的分布式表示及其组成\n",
    "    - https://papers.nips.cc/paper/2013/file/9aa42b31882ec039965f3c4923ce901b-Paper.pdf\n",
    "\n",
    "上面的两篇论文提出了两种学习单词表示方法：\n",
    "\n",
    "- 连续词袋模型(Continuous Bag-of-Words Model, CBOW) \n",
    "    - 基于周围的上下文词来预测中间词。上下文由当前(中间)词之前和之后的几个词组成。这种体系结构被称为“词袋模型”，因为上下文中的单词顺序并不重要\n",
    "- 连续跳过语法模型(Continuous Skip-gram Model, Skip-gram)\n",
    "    - 用于预测同一个句子中当前单词前后一定范围内的单词"
   ]
  },
  {
   "cell_type": "code",
   "execution_count": 5,
   "id": "moderate-foster",
   "metadata": {},
   "outputs": [],
   "source": [
    "import io\n",
    "import itertools\n",
    "import numpy as np\n",
    "import os\n",
    "import re\n",
    "import string\n",
    "import tqdm\n",
    "import tensorflow as tf\n",
    "from tensorflow.keras import Model, Sequential, layers\n",
    "from IPython.core.interactiveshell import InteractiveShell\n",
    "InteractiveShell.ast_node_interactivity = \"all\""
   ]
  },
  {
   "cell_type": "code",
   "execution_count": 6,
   "id": "parliamentary-enterprise",
   "metadata": {},
   "outputs": [],
   "source": [
    "SEED = 42\n",
    "AUTOTUNE = tf.data.AUTOTUNE"
   ]
  },
  {
   "cell_type": "markdown",
   "id": "recreational-imperial",
   "metadata": {},
   "source": [
    "# 1.简单文本向量化"
   ]
  },
  {
   "cell_type": "markdown",
   "id": "future-privilege",
   "metadata": {},
   "source": [
    "## 1.1 文本分词"
   ]
  },
  {
   "cell_type": "code",
   "execution_count": 8,
   "id": "political-compression",
   "metadata": {},
   "outputs": [
    {
     "data": {
      "text/plain": [
       "['the', 'wide', 'rode', 'shimmered', 'in', 'the', 'hot', 'sun']"
      ]
     },
     "execution_count": 8,
     "metadata": {},
     "output_type": "execute_result"
    }
   ],
   "source": [
    "sentence = \"The wide rode shimmered in the hot sun\"\n",
    "tokens = list(sentence.lower().split())\n",
    "tokens"
   ]
  },
  {
   "cell_type": "markdown",
   "id": "refined-raise",
   "metadata": {},
   "source": [
    "## 1.2 建立文本词汇表"
   ]
  },
  {
   "cell_type": "markdown",
   "id": "competitive-lincoln",
   "metadata": {},
   "source": [
    "### 1.2.1 建立词汇表"
   ]
  },
  {
   "cell_type": "code",
   "execution_count": 16,
   "id": "perceived-partition",
   "metadata": {},
   "outputs": [
    {
     "data": {
      "text/plain": [
       "{'<pad>': 0,\n",
       " 'the': 1,\n",
       " 'wide': 2,\n",
       " 'rode': 3,\n",
       " 'shimmered': 4,\n",
       " 'in': 5,\n",
       " 'hot': 6,\n",
       " 'sun': 7}"
      ]
     },
     "execution_count": 16,
     "metadata": {},
     "output_type": "execute_result"
    },
    {
     "data": {
      "text/plain": [
       "8"
      ]
     },
     "execution_count": 16,
     "metadata": {},
     "output_type": "execute_result"
    }
   ],
   "source": [
    "vocab = {\n",
    "    \"<pad>\": 0\n",
    "}\n",
    "index = 1\n",
    "for token in tokens:\n",
    "    if token not in vocab:\n",
    "        vocab[token] = index\n",
    "        index += 1\n",
    "vocab\n",
    "vocab_size = len(vocab)\n",
    "vocab_size"
   ]
  },
  {
   "cell_type": "markdown",
   "id": "perfect-colleague",
   "metadata": {},
   "source": [
    "### 1.2.2 建立逆词汇表"
   ]
  },
  {
   "cell_type": "code",
   "execution_count": 14,
   "id": "grave-mining",
   "metadata": {},
   "outputs": [
    {
     "data": {
      "text/plain": [
       "{0: '<pad>',\n",
       " 1: 'the',\n",
       " 2: 'wide',\n",
       " 3: 'rode',\n",
       " 4: 'shimmered',\n",
       " 5: 'in',\n",
       " 6: 'hot',\n",
       " 7: 'sun'}"
      ]
     },
     "execution_count": 14,
     "metadata": {},
     "output_type": "execute_result"
    }
   ],
   "source": [
    "inverse_vocab = {\n",
    "    index: token for token, index in vocab.items()\n",
    "}\n",
    "inverse_vocab"
   ]
  },
  {
   "cell_type": "markdown",
   "id": "auburn-regard",
   "metadata": {},
   "source": [
    "## 1.3 文本向量化"
   ]
  },
  {
   "cell_type": "code",
   "execution_count": 15,
   "id": "developing-cabinet",
   "metadata": {},
   "outputs": [
    {
     "data": {
      "text/plain": [
       "[1, 2, 3, 4, 5, 1, 6, 7]"
      ]
     },
     "execution_count": 15,
     "metadata": {},
     "output_type": "execute_result"
    }
   ],
   "source": [
    "example_sequence = [vocab[word] for word in tokens]\n",
    "example_sequence"
   ]
  },
  {
   "cell_type": "markdown",
   "id": "monetary-sherman",
   "metadata": {},
   "source": [
    "# 2.文本生成 Skip-grams"
   ]
  },
  {
   "cell_type": "code",
   "execution_count": 17,
   "id": "military-piece",
   "metadata": {},
   "outputs": [
    {
     "data": {
      "text/plain": [
       "[[5, 1],\n",
       " [1, 3],\n",
       " [6, 7],\n",
       " [4, 1],\n",
       " [5, 4],\n",
       " [3, 4],\n",
       " [6, 1],\n",
       " [3, 5],\n",
       " [1, 7],\n",
       " [1, 4],\n",
       " [3, 2],\n",
       " [6, 5],\n",
       " [7, 6],\n",
       " [1, 2],\n",
       " [1, 6],\n",
       " [2, 4],\n",
       " [3, 1],\n",
       " [2, 1],\n",
       " [7, 1],\n",
       " [4, 2],\n",
       " [5, 3],\n",
       " [2, 3],\n",
       " [1, 5],\n",
       " [4, 3],\n",
       " [5, 6],\n",
       " [4, 5]]"
      ]
     },
     "execution_count": 17,
     "metadata": {},
     "output_type": "execute_result"
    }
   ],
   "source": [
    "window_size = 2\n",
    "positive_skip_grams, _ = tf.keras.preprocessing.sequence.skipgrams(\n",
    "    example_sequence,\n",
    "    vocabulary_size = vocab_size,\n",
    "    window_size = window_size,\n",
    "    negative_samples = 0\n",
    ")\n",
    "positive_skip_grams"
   ]
  },
  {
   "cell_type": "code",
   "execution_count": 19,
   "id": "perfect-length",
   "metadata": {},
   "outputs": [
    {
     "name": "stdout",
     "output_type": "stream",
     "text": [
      "(5, 1): (in, the)\n",
      "(1, 3): (the, rode)\n",
      "(6, 7): (hot, sun)\n",
      "(4, 1): (shimmered, the)\n",
      "(5, 4): (in, shimmered)\n",
      "(3, 4): (rode, shimmered)\n",
      "(6, 1): (hot, the)\n",
      "(3, 5): (rode, in)\n",
      "(1, 7): (the, sun)\n",
      "(1, 4): (the, shimmered)\n",
      "(3, 2): (rode, wide)\n",
      "(6, 5): (hot, in)\n",
      "(7, 6): (sun, hot)\n",
      "(1, 2): (the, wide)\n",
      "(1, 6): (the, hot)\n",
      "(2, 4): (wide, shimmered)\n",
      "(3, 1): (rode, the)\n",
      "(2, 1): (wide, the)\n",
      "(7, 1): (sun, the)\n",
      "(4, 2): (shimmered, wide)\n",
      "(5, 3): (in, rode)\n",
      "(2, 3): (wide, rode)\n",
      "(1, 5): (the, in)\n",
      "(4, 3): (shimmered, rode)\n",
      "(5, 6): (in, hot)\n",
      "(4, 5): (shimmered, in)\n"
     ]
    }
   ],
   "source": [
    "for target, context in positive_skip_grams:\n",
    "    print(f\"({target}, {context}): ({inverse_vocab[target]}, {inverse_vocab[context]})\")"
   ]
  },
  {
   "cell_type": "code",
   "execution_count": 20,
   "id": "meaning-advantage",
   "metadata": {},
   "outputs": [
    {
     "data": {
      "text/plain": [
       "<tf.Tensor: shape=(4,), dtype=int64, numpy=array([2, 1, 4, 3])>"
      ]
     },
     "execution_count": 20,
     "metadata": {},
     "output_type": "execute_result"
    },
    {
     "data": {
      "text/plain": [
       "['wide', 'the', 'shimmered', 'rode']"
      ]
     },
     "execution_count": 20,
     "metadata": {},
     "output_type": "execute_result"
    }
   ],
   "source": [
    "target_word, context_word = positive_skip_grams[0]\n",
    "num_ns = 4\n",
    "context_class = tf.reshape(tf.constant(context_word, dtype = \"int64\"), (1, 1))\n",
    "negative_sampling_candidates, _, _ = tf.random.log_uniform_candidate_sampler(\n",
    "    true_classes = context_class,\n",
    "    num_true = 1,\n",
    "    num_sampled = num_ns,\n",
    "    unique = True,\n",
    "    range_max = vocab_size,\n",
    "    seed = SEED,\n",
    "    name = \"negative_sampling\",\n",
    ")\n",
    "negative_sampling_candidates\n",
    "[inverse_vocab[index.numpy()] for index in negative_sampling_candidates]"
   ]
  },
  {
   "cell_type": "code",
   "execution_count": null,
   "id": "trained-station",
   "metadata": {},
   "outputs": [],
   "source": []
  }
 ],
 "metadata": {
  "kernelspec": {
   "display_name": "Python 3",
   "language": "python",
   "name": "python3"
  },
  "language_info": {
   "codemirror_mode": {
    "name": "ipython",
    "version": 3
   },
   "file_extension": ".py",
   "mimetype": "text/x-python",
   "name": "python",
   "nbconvert_exporter": "python",
   "pygments_lexer": "ipython3",
   "version": "3.7.10"
  }
 },
 "nbformat": 4,
 "nbformat_minor": 5
}
